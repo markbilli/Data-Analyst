{
 "cells": [
  {
   "cell_type": "markdown",
   "id": "43dee03d",
   "metadata": {},
   "source": [
    "# Data Science Tools and Ecosystem\n"
   ]
  },
  {
   "cell_type": "markdown",
   "id": "7993ac66",
   "metadata": {},
   "source": [
    "In this notebook,Data Science Tools and Ecosystem are summarized"
   ]
  },
  {
   "cell_type": "markdown",
   "id": "9b2e82f4",
   "metadata": {},
   "source": [
    "# List popular languages for Data Science\n",
    " __OBJECTIVES__\n",
    "- Python\n",
    "- SQL\n",
    "- PowerBI"
   ]
  },
  {
   "cell_type": "markdown",
   "id": "367bccff",
   "metadata": {},
   "source": [
    "some of the popular languages that Data Scientists use are :\n",
    "1. Python\n",
    "2. R\n",
    "3. PowerBI"
   ]
  },
  {
   "cell_type": "markdown",
   "id": "dad4f6b3",
   "metadata": {},
   "source": [
    "some of the commonly used libraries used by Data Scientists include:\n",
    "1. GGPYPLOT\n",
    "2. PANDAS\n",
    "3. SEABORN"
   ]
  },
  {
   "cell_type": "markdown",
   "id": "870a315a",
   "metadata": {},
   "source": [
    "| Data Science Tools | \n",
    "| ------------------ |\n",
    "| Python \n",
    "| Seaborn\n",
    "|GGPYPLOT\n"
   ]
  },
  {
   "cell_type": "markdown",
   "id": "6c115477",
   "metadata": {},
   "source": [
    "### Below are a few examples of evaluating arithmetic expressions in Python"
   ]
  },
  {
   "cell_type": "code",
   "execution_count": 2,
   "id": "a6bcd546",
   "metadata": {},
   "outputs": [
    {
     "data": {
      "text/plain": [
       "17"
      ]
     },
     "execution_count": 2,
     "metadata": {},
     "output_type": "execute_result"
    }
   ],
   "source": [
    "#This a simple arithmetic expression to mutiply then add integers\n",
    "(3*4)+5"
   ]
  },
  {
   "cell_type": "code",
   "execution_count": 5,
   "id": "f074136a",
   "metadata": {},
   "outputs": [
    {
     "name": "stdout",
     "output_type": "stream",
     "text": [
      "3.3333333333333335\n"
     ]
    }
   ],
   "source": [
    " #This will convert 200 minutes to hours by diving by 60\n",
    "Hours = 200/60\n",
    "print(Hours)"
   ]
  },
  {
   "cell_type": "markdown",
   "id": "cfcf5201",
   "metadata": {},
   "source": [
    "## Author : Mark Billiarder Manasye"
   ]
  }
 ],
 "metadata": {
  "kernelspec": {
   "display_name": "Python 3 (ipykernel)",
   "language": "python",
   "name": "python3"
  },
  "language_info": {
   "codemirror_mode": {
    "name": "ipython",
    "version": 3
   },
   "file_extension": ".py",
   "mimetype": "text/x-python",
   "name": "python",
   "nbconvert_exporter": "python",
   "pygments_lexer": "ipython3",
   "version": "3.9.13"
  }
 },
 "nbformat": 4,
 "nbformat_minor": 5
}
